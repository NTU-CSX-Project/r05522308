{
 "cells": [
  {
   "cell_type": "code",
   "execution_count": 2,
   "metadata": {},
   "outputs": [
    {
     "name": "stdout",
     "output_type": "stream",
     "text": [
      "[[[222 213 192]\n",
      "  [222 213 192]\n",
      "  [221 212 191]\n",
      "  ..., \n",
      "  [184 186 193]\n",
      "  [162 164 171]\n",
      "  [139 141 148]]\n",
      "\n",
      " [[222 213 192]\n",
      "  [222 213 192]\n",
      "  [221 212 191]\n",
      "  ..., \n",
      "  [189 191 198]\n",
      "  [166 168 175]\n",
      "  [142 144 151]]\n",
      "\n",
      " [[223 214 193]\n",
      "  [223 214 193]\n",
      "  [223 214 193]\n",
      "  ..., \n",
      "  [196 198 205]\n",
      "  [174 176 183]\n",
      "  [151 153 160]]\n",
      "\n",
      " ..., \n",
      " [[150 149 206]\n",
      "  [154 153 210]\n",
      "  [159 158 215]\n",
      "  ..., \n",
      "  [ 70  75  86]\n",
      "  [ 67  72  83]\n",
      "  [ 66  71  82]]\n",
      "\n",
      " [[148 147 204]\n",
      "  [151 150 207]\n",
      "  [157 156 213]\n",
      "  ..., \n",
      "  [ 81  86  97]\n",
      "  [ 78  83  94]\n",
      "  [ 77  82  93]]\n",
      "\n",
      " [[148 147 204]\n",
      "  [151 150 207]\n",
      "  [157 156 213]\n",
      "  ..., \n",
      "  [ 86  91 102]\n",
      "  [ 84  89 100]\n",
      "  [ 82  87  98]]]\n"
     ]
    }
   ],
   "source": [
    "import numpy as np\n",
    "import cv2\n",
    "test_video_new = np.load('west_video.npy_new1.npy')\n",
    "print(test_video_new[0])\n",
    "test_video_new.shape\n",
    "fourcc = cv2.VideoWriter_fourcc(*'XVID')\n",
    "out = cv2.VideoWriter('west_new.avi',fourcc, 10.0, (720,1280))\n",
    "for i in range(len(test_video_new)):\n",
    "   frame = test_video_new[i]\n",
    "   out.write(frame)\n",
    "out.release()"
   ]
  },
  {
   "cell_type": "code",
   "execution_count": null,
   "metadata": {
    "collapsed": true
   },
   "outputs": [],
   "source": []
  }
 ],
 "metadata": {
  "kernelspec": {
   "display_name": "Python [conda env:Anaconda3]",
   "language": "python",
   "name": "conda-env-Anaconda3-py"
  },
  "language_info": {
   "codemirror_mode": {
    "name": "ipython",
    "version": 3
   },
   "file_extension": ".py",
   "mimetype": "text/x-python",
   "name": "python",
   "nbconvert_exporter": "python",
   "pygments_lexer": "ipython3",
   "version": "3.5.2"
  }
 },
 "nbformat": 4,
 "nbformat_minor": 1
}
