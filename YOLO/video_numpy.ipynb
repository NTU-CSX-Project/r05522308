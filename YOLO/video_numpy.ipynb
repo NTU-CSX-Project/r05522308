{
 "cells": [
  {
   "cell_type": "code",
   "execution_count": 1,
   "metadata": {},
   "outputs": [
    {
     "name": "stdout",
     "output_type": "stream",
     "text": [
      "True\n"
     ]
    }
   ],
   "source": [
    "\"\"\"\n",
    "Changing video into numpy data on Windows, since it is unavailable to open videos by opencv on Ubuntu virtual machine. \n",
    "\"\"\"\n",
    "\n",
    "import numpy as np\n",
    "import cv2\n",
    "\n",
    "cap = cv2.VideoCapture()\n",
    "ret = cap.open('video-1510621711.avi')\n",
    "print(ret)\n",
    "\n",
    "\n",
    "frames = list()\n",
    "i = 0\n",
    "while ret:\n",
    "    ret, img = cap.read()\n",
    "    if ret:\n",
    "        frames.append(img)\n",
    "        i += 1\n",
    "np.save('west_video', frames)"
   ]
  },
  {
   "cell_type": "code",
   "execution_count": null,
   "metadata": {
    "collapsed": true
   },
   "outputs": [],
   "source": [
    "    "
   ]
  }
 ],
 "metadata": {
  "anaconda-cloud": {},
  "kernelspec": {
   "display_name": "Python [conda env:Anaconda3]",
   "language": "python",
   "name": "conda-env-Anaconda3-py"
  },
  "language_info": {
   "codemirror_mode": {
    "name": "ipython",
    "version": 3
   },
   "file_extension": ".py",
   "mimetype": "text/x-python",
   "name": "python",
   "nbconvert_exporter": "python",
   "pygments_lexer": "ipython3",
   "version": "3.5.2"
  }
 },
 "nbformat": 4,
 "nbformat_minor": 1
}
