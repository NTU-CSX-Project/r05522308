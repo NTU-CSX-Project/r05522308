{
 "cells": [
  {
   "cell_type": "code",
   "execution_count": 38,
   "metadata": {},
   "outputs": [
    {
     "name": "stderr",
     "output_type": "stream",
     "text": [
      "Using TensorFlow backend.\n"
     ]
    }
   ],
   "source": [
    "from pandas import DataFrame\n",
    "from pandas import Series\n",
    "from pandas import concat\n",
    "from pandas import read_csv\n",
    "from pandas import datetime\n",
    "from pandas import to_datetime\n",
    "from sklearn.metrics import mean_squared_error\n",
    "from sklearn.preprocessing import MinMaxScaler\n",
    "from sklearn.preprocessing import LabelEncoder\n",
    "from keras.models import Sequential\n",
    "from keras.layers import Dense\n",
    "from keras.layers import LSTM\n",
    "from math import sqrt\n",
    "from matplotlib import pyplot\n",
    "import numpy as np\n",
    "from numpy import array\n",
    "from numpy import concatenate"
   ]
  },
  {
   "cell_type": "code",
   "execution_count": 1,
   "metadata": {},
   "outputs": [],
   "source": [
    "# fit an LSTM network to training data\n",
    "def fit_lstm(train, batch_size, nb_epoch, neurons):\n",
    "    X, y = train[:, 0:-1], train[:, -1]\n",
    "    X = X.reshape(X.shape[0], 1, X.shape[1])\n",
    "    model = Sequential()\n",
    "    model.add(LSTM(neurons, batch_input_shape=(batch_size, X.shape[1], X.shape[2]), stateful=True))\n",
    "    model.add(Dense(1))\n",
    "    model.compile(loss='mean_squared_error', optimizer='adam')\n",
    "    for i in range(nb_epoch):\n",
    "        model.fit(X, y, epochs=1, batch_size=batch_size, verbose=0, shuffle=False)\n",
    "        model.reset_states()\n",
    "    return model"
   ]
  },
  {
   "cell_type": "code",
   "execution_count": 71,
   "metadata": {},
   "outputs": [
    {
     "name": "stdout",
     "output_type": "stream",
     "text": [
      "(192, 15)\n"
     ]
    }
   ],
   "source": [
    "import numpy as np\n",
    "# load dataset\n",
    "A_data = np.genfromtxt(\"EDA_AAAA.csv\", delimiter=',', dtype='float32')\n",
    "B_data = np.genfromtxt(\"EDA_BBBB.csv\", delimiter=',', dtype='float32')\n",
    "C_data = np.genfromtxt(\"EDA_CCCC.csv\", delimiter=',', dtype='float32')\n",
    "D_data = np.genfromtxt(\"EDA_DDDD.csv\", delimiter=',', dtype='float32')\n",
    "E_data = np.genfromtxt(\"EDA_EEEE.csv\", delimiter=',', dtype='float32')\n",
    "F_data = np.genfromtxt(\"EDA_FFFF.csv\", delimiter=',', dtype='float32')\n",
    "\n",
    "data_AB = np.append(A_data, B_data, axis=0)\n",
    "data_CD = np.append(C_data, D_data, axis=0)\n",
    "data_EF = np.append(E_data, F_data, axis=0)\n",
    "data_ABCD = np.append(data_AB, data_CD, axis=0)\n",
    "data = np.append(data_ABCD, data_EF, axis=0)\n",
    "\n",
    "print(data.shape)\n",
    "x_data = data[:, 0:9].reshape((1, TIME_STEPS, INPUT_SIZE))\n",
    "y_data = data[:, 9:16].reshape((1, TIME_STEPS, OUTPUT_SIZE))\n"
   ]
  },
  {
   "cell_type": "code",
   "execution_count": 59,
   "metadata": {},
   "outputs": [
    {
     "data": {
      "text/plain": [
       "(<function print>, 0.0)"
      ]
     },
     "execution_count": 59,
     "metadata": {},
     "output_type": "execute_result"
    }
   ],
   "source": [
    "x_data = my_data[:, 0:9]\n",
    "print, x_data[1,8]\n",
    "y_data=my_data[:, 9:16]\n",
    "print, y_data[1,5]\n",
    "\n",
    "x_data = my_data[:, 0:9].reshape((1, TIME_STEPS, INPUT_SIZE))\n",
    "print, x_data[0, 0, 8]\n",
    "y_data = my_data[:, 9:16].reshape((1, TIME_STEPS, OUTPUT_SIZE))\n",
    "print, y_data[0, 0, 5]"
   ]
  },
  {
   "cell_type": "code",
   "execution_count": 78,
   "metadata": {},
   "outputs": [
    {
     "name": "stderr",
     "output_type": "stream",
     "text": [
      "/home/highwall/anaconda3/lib/python3.5/site-packages/ipykernel/__main__.py:14: UserWarning: Update your `LSTM` call to the Keras 2 API: `LSTM(stateful=True, units=6, batch_input_shape=(1, 192, 9..., return_sequences=True)`\n"
     ]
    },
    {
     "name": "stdout",
     "output_type": "stream",
     "text": [
      "Training ------------\n",
      "Step : 0 test cost:  0.506691396236 accuracy: 0.130208328366\n",
      "Step : 10 test cost:  0.454072326422 accuracy: 0.359375\n",
      "Step : 20 test cost:  0.401148080826 accuracy: 0.421875\n",
      "Step : 30 test cost:  0.35927605629 accuracy: 0.458333343267\n",
      "Step : 40 test cost:  0.325633257627 accuracy: 0.463541656733\n",
      "Step : 50 test cost:  0.289895921946 accuracy: 0.46875\n",
      "Step : 60 test cost:  0.244467377663 accuracy: 0.46875\n",
      "Step : 70 test cost:  0.19446529448 accuracy: 0.46875\n",
      "Step : 80 test cost:  0.157598108053 accuracy: 0.630208313465\n",
      "Step : 90 test cost:  0.134071975946 accuracy: 0.640625\n",
      "Step : 100 test cost:  0.118485413492 accuracy: 0.645833313465\n",
      "Step : 110 test cost:  0.107588194311 accuracy: 0.65625\n",
      "Step : 120 test cost:  0.0995683446527 accuracy: 0.65625\n",
      "Step : 130 test cost:  0.0933419838548 accuracy: 0.65625\n",
      "Step : 140 test cost:  0.0882520005107 accuracy: 0.661458313465\n",
      "Step : 150 test cost:  0.0839312002063 accuracy: 0.677083313465\n",
      "Step : 160 test cost:  0.0801470801234 accuracy: 0.729166686535\n",
      "Step : 170 test cost:  0.0767531022429 accuracy: 0.807291686535\n",
      "Step : 180 test cost:  0.0737009942532 accuracy: 0.807291686535\n",
      "Step : 190 test cost:  0.0710914880037 accuracy: 0.817708313465\n",
      "Step : 200 test cost:  0.0688638612628 accuracy: 0.817708313465\n",
      "Step : 210 test cost:  0.0667764693499 accuracy: 0.817708313465\n",
      "Step : 220 test cost:  0.0648420825601 accuracy: 0.817708313465\n",
      "Step : 230 test cost:  0.0630065277219 accuracy: 0.817708313465\n",
      "Step : 240 test cost:  0.0612544417381 accuracy: 0.817708313465\n",
      "Step : 250 test cost:  0.0595804452896 accuracy: 0.817708313465\n",
      "Step : 260 test cost:  0.0579743869603 accuracy: 0.817708313465\n",
      "Step : 270 test cost:  0.0564274676144 accuracy: 0.822916686535\n",
      "Step : 280 test cost:  0.054937299341 accuracy: 0.822916686535\n",
      "Step : 290 test cost:  0.0534965284169 accuracy: 0.822916686535\n",
      "Step : 300 test cost:  0.0521022640169 accuracy: 0.822916686535\n",
      "Step : 310 test cost:  0.0507581233978 accuracy: 0.822916686535\n",
      "Step : 320 test cost:  0.0494670681655 accuracy: 0.822916686535\n",
      "Step : 330 test cost:  0.048230856657 accuracy: 0.822916686535\n",
      "Step : 340 test cost:  0.0470523498952 accuracy: 0.822916686535\n",
      "Step : 350 test cost:  0.04593456164 accuracy: 0.822916686535\n",
      "Step : 360 test cost:  0.0448780953884 accuracy: 0.822916686535\n",
      "Step : 370 test cost:  0.0438862852752 accuracy: 0.822916686535\n",
      "Step : 380 test cost:  0.0429628454149 accuracy: 0.822916686535\n",
      "Step : 390 test cost:  0.0420958101749 accuracy: 0.822916686535\n",
      "Step : 400 test cost:  0.0412874259055 accuracy: 0.822916686535\n",
      "Step : 410 test cost:  0.0405471809208 accuracy: 0.822916686535\n",
      "Step : 420 test cost:  0.0398756153882 accuracy: 0.822916686535\n",
      "Step : 430 test cost:  0.0392701178789 accuracy: 0.817708313465\n",
      "Step : 440 test cost:  0.0387220904231 accuracy: 0.817708313465\n",
      "Step : 450 test cost:  0.0382247716188 accuracy: 0.817708313465\n",
      "Step : 460 test cost:  0.0377762131393 accuracy: 0.817708313465\n",
      "Step : 470 test cost:  0.0373692326248 accuracy: 0.817708313465\n",
      "Step : 480 test cost:  0.0369976013899 accuracy: 0.817708313465\n",
      "Step : 490 test cost:  0.0366575233638 accuracy: 0.817708313465\n"
     ]
    }
   ],
   "source": [
    "# setting model value\n",
    "    \n",
    "INPUT_SIZE = 9  \n",
    "TIME_STEPS = 32*6\n",
    "OUTPUT_SIZE = 6\n",
    "BATCH_SIZE = 1\n",
    "LR = 0.001\n",
    "\n",
    "model = Sequential()\n",
    "model.add(LSTM(\n",
    "    batch_input_shape=(BATCH_SIZE,TIME_STEPS,INPUT_SIZE),\n",
    "    output_dim=OUTPUT_SIZE,\n",
    "    return_sequences=True,\n",
    "    stateful=True\n",
    "))\n",
    "\n",
    "model.compile(optimizer='adam', loss='mse',\n",
    "              metrics=['accuracy'])\n",
    "\n",
    "print('Training ------------')\n",
    "\n",
    "for step in range(500):\n",
    "    cost = model.train_on_batch(x_data, y_data)\n",
    "    pred = model.predict(x_data, BATCH_SIZE)\n",
    "    if step % 10 == 0:\n",
    "        #X_test, y_test=get_test()\n",
    "        # X_test = X_test.astype('float32')\n",
    "        # y_test = y_test.astype('int')\n",
    "        #print(y_test.shape[0].dtype)\n",
    "        cost ,accuracy= model.evaluate(x_data, y_data,batch_size=1, verbose=False)\n",
    "        #error because we need a prediction each time step\n",
    "        print('Step :', step, 'test cost: ', cost, 'accuracy:', accuracy)"
   ]
  },
  {
   "cell_type": "code",
   "execution_count": 79,
   "metadata": {},
   "outputs": [
    {
     "ename": "NameError",
     "evalue": "name 'torch' is not defined",
     "output_type": "error",
     "traceback": [
      "\u001b[0;31m---------------------------------------------------------------------------\u001b[0m",
      "\u001b[0;31mNameError\u001b[0m                                 Traceback (most recent call last)",
      "\u001b[0;32m<ipython-input-79-57ea23dad8ce>\u001b[0m in \u001b[0;36m<module>\u001b[0;34m()\u001b[0m\n\u001b[0;32m----> 1\u001b[0;31m \u001b[0mtorch\u001b[0m\u001b[0;34m.\u001b[0m\u001b[0msave\u001b[0m\u001b[0;34m(\u001b[0m\u001b[0mmodel\u001b[0m\u001b[0;34m.\u001b[0m\u001b[0mstate_dict\u001b[0m\u001b[0;34m(\u001b[0m\u001b[0;34m)\u001b[0m\u001b[0;34m,\u001b[0m \u001b[0;34m\"kaggle_model1.pkl\"\u001b[0m\u001b[0;34m)\u001b[0m\u001b[0;34m\u001b[0m\u001b[0m\n\u001b[0m",
      "\u001b[0;31mNameError\u001b[0m: name 'torch' is not defined"
     ]
    }
   ],
   "source": [
    "torch.save(model.state_dict(), \"kaggle_model1.pkl\")"
   ]
  }
 ],
 "metadata": {
  "anaconda-cloud": {},
  "kernelspec": {
   "display_name": "Python [conda env:anaconda3]",
   "language": "python",
   "name": "conda-env-anaconda3-py"
  },
  "language_info": {
   "codemirror_mode": {
    "name": "ipython",
    "version": 3
   },
   "file_extension": ".py",
   "mimetype": "text/x-python",
   "name": "python",
   "nbconvert_exporter": "python",
   "pygments_lexer": "ipython3",
   "version": "3.5.2"
  }
 },
 "nbformat": 4,
 "nbformat_minor": 1
}
